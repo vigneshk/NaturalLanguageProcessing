{
 "cells": [
  {
   "cell_type": "markdown",
   "metadata": {},
   "source": [
    "# Importing Natural Language Toolkit (NLTK)"
   ]
  },
  {
   "cell_type": "code",
   "execution_count": 2,
   "metadata": {},
   "outputs": [
    {
     "name": "stdout",
     "output_type": "stream",
     "text": [
      "showing info https://raw.githubusercontent.com/nltk/nltk_data/gh-pages/index.xml\n"
     ]
    },
    {
     "data": {
      "text/plain": [
       "True"
      ]
     },
     "execution_count": 2,
     "metadata": {},
     "output_type": "execute_result"
    }
   ],
   "source": [
    "import nltk\n",
    "nltk.download()"
   ]
  },
  {
   "cell_type": "markdown",
   "metadata": {},
   "source": [
    "# Word Tokenization"
   ]
  },
  {
   "cell_type": "code",
   "execution_count": 89,
   "metadata": {},
   "outputs": [
    {
     "name": "stdout",
     "output_type": "stream",
     "text": [
      "['Let', 'us', 'learn', 'Natural', 'Language', 'Processing', '.', 'And', 'the', 'techniques', 'involved', '.']\n"
     ]
    }
   ],
   "source": [
    "from nltk.tokenize import word_tokenize\n",
    "\n",
    "data = \"Let us learn Natural Language Processing . And the techniques involved.\"\n",
    "print(word_tokenize(data))"
   ]
  },
  {
   "cell_type": "markdown",
   "metadata": {},
   "source": [
    "# Bigram"
   ]
  },
  {
   "cell_type": "code",
   "execution_count": 98,
   "metadata": {},
   "outputs": [
    {
     "name": "stdout",
     "output_type": "stream",
     "text": [
      "[('Let', 'us'), ('us', 'learn'), ('learn', 'Natural'), ('Natural', 'Language'), ('Language', 'Processing'), ('Processing', '.'), ('.', 'And'), ('And', 'the'), ('the', 'techniques'), ('techniques', 'involved'), ('involved', '.')]\n"
     ]
    }
   ],
   "source": [
    "from nltk import word_tokenize\n",
    "from nltk.util import ngrams\n",
    "data = \"Let us learn Natural Language Processing . And the techniques involved.\"\n",
    "wordtokenize = word_tokenize(data)\n",
    "biword = list(nltk.bigrams(wordtokenize))\n",
    "print(biword)\n"
   ]
  },
  {
   "cell_type": "markdown",
   "metadata": {},
   "source": [
    "# Trigram"
   ]
  },
  {
   "cell_type": "code",
   "execution_count": 99,
   "metadata": {},
   "outputs": [
    {
     "name": "stdout",
     "output_type": "stream",
     "text": [
      "[('Let', 'us', 'learn'), ('us', 'learn', 'Natural'), ('learn', 'Natural', 'Language'), ('Natural', 'Language', 'Processing'), ('Language', 'Processing', '.'), ('Processing', '.', 'And'), ('.', 'And', 'the'), ('And', 'the', 'techniques'), ('the', 'techniques', 'involved'), ('techniques', 'involved', '.')]\n"
     ]
    }
   ],
   "source": [
    "from nltk import word_tokenize\n",
    "from nltk.util import ngrams\n",
    "data1 = \"Let us learn Natural Language Processing . And the techniques involved.\"\n",
    "wordtokenize = word_tokenize(data1)\n",
    "triword = list(nltk.trigrams(wordtokenize))\n",
    "print(triword)"
   ]
  },
  {
   "cell_type": "markdown",
   "metadata": {},
   "source": [
    "# N Grams"
   ]
  },
  {
   "cell_type": "code",
   "execution_count": 110,
   "metadata": {},
   "outputs": [
    {
     "name": "stdout",
     "output_type": "stream",
     "text": [
      "[('Let', 'us', 'learn', 'Natural', 'Language', 'Processing', '.', 'And', 'the', 'techniques'), ('us', 'learn', 'Natural', 'Language', 'Processing', '.', 'And', 'the', 'techniques', 'involved'), ('learn', 'Natural', 'Language', 'Processing', '.', 'And', 'the', 'techniques', 'involved', '.')]\n"
     ]
    }
   ],
   "source": [
    "from nltk import word_tokenize\n",
    "from nltk.util import ngrams\n",
    "\n",
    "data2 = \"Let us learn Natural Language Processing . And the techniques involved.\"\n",
    "wordtokenize = word_tokenize(data2)\n",
    "#Here we generate 10 grams\n",
    "tengrams = list(nltk.ngrams(wordtokenize,10))\n",
    "print(tengrams)"
   ]
  },
  {
   "cell_type": "markdown",
   "metadata": {},
   "source": [
    "# Sentence Tokenization"
   ]
  },
  {
   "cell_type": "code",
   "execution_count": 21,
   "metadata": {},
   "outputs": [
    {
     "name": "stdout",
     "output_type": "stream",
     "text": [
      "['Let us learn Natural Language Processing .', 'And the techniques involved in it as well.']\n"
     ]
    }
   ],
   "source": [
    "from nltk.tokenize import sent_tokenize\n",
    "\n",
    "data = \"Let us learn Natural Language Processing . And the techniques involved in it as well.\"\n",
    "print(sent_tokenize(data))"
   ]
  },
  {
   "cell_type": "markdown",
   "metadata": {},
   "source": [
    "# Removing Stop Words"
   ]
  },
  {
   "cell_type": "code",
   "execution_count": 34,
   "metadata": {},
   "outputs": [
    {
     "name": "stdout",
     "output_type": "stream",
     "text": [
      "Number of Stop Words in English Language :  179\n",
      "The list of stop words in English language are :\n",
      "\n",
      " {'have', 'he', 'ours', 'd', 'what', 'in', \"hadn't\", \"shan't\", \"couldn't\", 'who', 'such', 'all', 'their', 'mightn', \"that'll\", 'few', 'below', 'at', 'its', 'haven', 'our', \"mightn't\", 'it', 'just', \"mustn't\", 'is', 'had', 'if', 'does', 'themselves', 'between', 'aren', 'to', 'can', 'before', 'then', 'your', 'am', 'don', 'not', 'couldn', 'than', 'so', \"doesn't\", 'be', 'll', \"you're\", 'both', 'those', 'on', 'after', 'into', 'as', 'of', 'where', 'shan', 'you', 'hadn', 'were', 'through', \"she's\", 'yourself', 'only', \"should've\", 'himself', 'mustn', 'hers', 'any', 'him', 'while', 'same', \"it's\", 'most', \"wasn't\", 'with', \"aren't\", 'each', 'too', 'his', 'nor', 'there', 'they', \"isn't\", 'until', 'shouldn', 'i', \"you'd\", 'up', 'her', 's', 'own', 'during', 'ourselves', 'ain', \"hasn't\", 'do', 'theirs', 'how', 'hasn', \"you've\", 'my', 'over', 'for', 'them', \"don't\", 'again', 'when', 'o', 'weren', \"needn't\", 'once', 'more', 'under', 'was', 'or', 'about', 'some', 're', 'wasn', \"didn't\", 'and', 'this', 'didn', 'herself', 'the', 'she', 'doing', \"wouldn't\", 'having', 'against', 'which', 'are', 'out', 'because', 'that', \"haven't\", 'by', 'm', 'down', 'me', 'but', 'been', 't', 'whom', 'has', 'ma', \"weren't\", \"shouldn't\", 'being', 'needn', 'very', 'will', 'an', 'above', 'yourselves', 'now', 'doesn', 've', 'yours', \"you'll\", 'why', 'y', 'a', 'isn', 'other', 'further', 'did', 'these', 'here', \"won't\", 'no', 'should', 'myself', 'we', 'from', 'itself', 'won', 'wouldn', 'off'}\n"
     ]
    }
   ],
   "source": [
    "from nltk.corpus import stopwords\n",
    "\n",
    "stopWords = set(stopwords.words('english'))\n",
    "\n",
    "print(\"Number of Stop Words in English Language : \",len(stopWords))\n",
    "print(\"The list of stop words in English language are :\\n\\n\",stopWords)"
   ]
  },
  {
   "cell_type": "code",
   "execution_count": 28,
   "metadata": {},
   "outputs": [
    {
     "name": "stdout",
     "output_type": "stream",
     "text": [
      "['Let', 'us', 'learn', 'Natural', 'Language', 'Processing', '.', 'And', 'techniques', 'involved', 'well', '.']\n"
     ]
    }
   ],
   "source": [
    "words = word_tokenize(data)\n",
    "wordsFiltered = []\n",
    "\n",
    "for w in words:\n",
    "    if w not in stopWords:\n",
    "        wordsFiltered.append(w)\n",
    " \n",
    "print(wordsFiltered)"
   ]
  },
  {
   "cell_type": "markdown",
   "metadata": {},
   "source": [
    "# Stemming using PorterStemmer"
   ]
  },
  {
   "cell_type": "code",
   "execution_count": 135,
   "metadata": {},
   "outputs": [
    {
     "name": "stdout",
     "output_type": "stream",
     "text": [
      "Example 1\n",
      "\n",
      "enjoy\n",
      "enjoy\n",
      "enjoy\n",
      "enjoy\n",
      "veri\n",
      "\n",
      "Example 2\n",
      "\n",
      "consult\n",
      "consult\n",
      "consult\n",
      "consulti\n",
      "swim\n",
      "swam\n",
      "swim\n"
     ]
    }
   ],
   "source": [
    "from nltk.stem import PorterStemmer\n",
    "\n",
    "words1 = [\"enjoy\",\"enjoyed\",\"enjoying\",\"enjoyment\",\"very\"]\n",
    "\n",
    "ps = PorterStemmer()\n",
    "print(\"Example 1\\n\")\n",
    "for word in words1:\n",
    "    print(ps.stem(word))\n",
    "\n",
    "words2 = [\"consultation\",\"consulting\",\"consulted\",\"consulty\",\"swimmed\",\"swam\",\"swimming\"]\n",
    "print(\"\\nExample 2\\n\")\n",
    "for word in words2:\n",
    "    print(ps.stem(word))"
   ]
  },
  {
   "cell_type": "markdown",
   "metadata": {},
   "source": [
    "# Stemming using LancasterStemmer"
   ]
  },
  {
   "cell_type": "code",
   "execution_count": 134,
   "metadata": {},
   "outputs": [
    {
     "name": "stdout",
     "output_type": "stream",
     "text": [
      "Example 1\n",
      "\n",
      "enjoy\n",
      "enjoy\n",
      "enjoy\n",
      "enjoy\n",
      "very\n",
      "study\n",
      "study\n",
      "\n",
      "Example 2\n",
      "\n",
      "consult\n",
      "consult\n",
      "consult\n",
      "consul\n",
      "swim\n",
      "swam\n",
      "swim\n"
     ]
    }
   ],
   "source": [
    "from nltk.stem import LancasterStemmer\n",
    "\n",
    "words1 = [\"enjoy\",\"enjoyed\",\"enjoying\",\"enjoyment\",\"very\",\"studying\",\"studied\"]\n",
    "\n",
    "ls = LancasterStemmer()\n",
    "print(\"Example 1\\n\")\n",
    "for word in words1:\n",
    "    print(ls.stem(word))\n",
    "\n",
    "words2 = [\"consultation\",\"consulting\",\"consulted\",\"consulty\",\"swimmed\",\"swam\",\"swimming\"]\n",
    "print(\"\\nExample 2\\n\")\n",
    "for word in words2:\n",
    "    print(ls.stem(word))"
   ]
  },
  {
   "cell_type": "markdown",
   "metadata": {},
   "source": [
    "# Lemmatization"
   ]
  },
  {
   "cell_type": "code",
   "execution_count": 131,
   "metadata": {},
   "outputs": [
    {
     "name": "stdout",
     "output_type": "stream",
     "text": [
      "Verb Swimming : swim\n",
      "Adjective Swimming : swimming\n",
      "\n",
      "\n",
      "Verb swam : swim\n",
      "Adjective swam : swam\n",
      "\n",
      "\n",
      "Verb swimmed : swimmed\n",
      "Adjective swimmed : swimmed\n",
      "\n",
      "\n",
      "Adjective better : good\n",
      "Verb better : better\n"
     ]
    }
   ],
   "source": [
    "from nltk.stem import WordNetLemmatizer \n",
    "lemmatizer = WordNetLemmatizer() \n",
    "\n",
    "# a denotes adjective and v denotes verb in \"pos\" \n",
    "\n",
    "print(\"Verb Swimming :\", lemmatizer.lemmatize(\"swimming\",pos = \"v\")) \n",
    "print(\"Adjective Swimming :\", lemmatizer.lemmatize(\"swimming\",pos = \"a\")) \n",
    "print(\"\\n\")\n",
    "print(\"Verb swam :\", lemmatizer.lemmatize(\"swam\",pos = \"v\"))\n",
    "print(\"Adjective swam :\", lemmatizer.lemmatize(\"swam\",pos = \"a\")) \n",
    "print(\"\\n\")\n",
    "print(\"Verb swimmed :\", lemmatizer.lemmatize(\"swimmed\",pos = \"v\"))\n",
    "print(\"Adjective swimmed :\", lemmatizer.lemmatize(\"swimmed\",pos = \"a\")) \n",
    "print(\"\\n\")\n",
    "  \n",
    "\n",
    "print(\"Adjective better :\", lemmatizer.lemmatize(\"better\", pos =\"a\"))\n",
    "print(\"Verb better :\", lemmatizer.lemmatize(\"better\", pos =\"v\"))"
   ]
  }
 ],
 "metadata": {
  "kernelspec": {
   "display_name": "Python 3",
   "language": "python",
   "name": "python3"
  },
  "language_info": {
   "codemirror_mode": {
    "name": "ipython",
    "version": 3
   },
   "file_extension": ".py",
   "mimetype": "text/x-python",
   "name": "python",
   "nbconvert_exporter": "python",
   "pygments_lexer": "ipython3",
   "version": "3.7.0"
  }
 },
 "nbformat": 4,
 "nbformat_minor": 2
}
